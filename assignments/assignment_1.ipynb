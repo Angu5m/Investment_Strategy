{
 "cells": [
  {
   "cell_type": "markdown",
   "metadata": {},
   "source": [
    "# Assignment 1\n",
    "\n",
    "Deadline: 19.03.2025, 12:00 CET\n",
    "\n",
    "<Add your name, student-id and emal address>"
   ]
  },
  {
   "cell_type": "code",
   "execution_count": 1,
   "metadata": {},
   "outputs": [],
   "source": [
    "# Import standard libraries\n",
    "import os\n",
    "import sys\n",
    "import timeit # To compute runtimes\n",
    "from typing import Optional\n",
    "\n",
    "# Import third-party libraries\n",
    "import numpy as np\n",
    "import pandas as pd\n",
    "import matplotlib.pyplot as plt\n",
    "\n",
    "# Import local modules\n",
    "project_root = os.path.dirname(os.path.dirname(os.getcwd()))   # Change this path if needed\n",
    "src_path = os.path.join(project_root, 'qpmwp-course\\\\src')\n",
    "sys.path.append(project_root)\n",
    "sys.path.append(src_path)\n",
    "from estimation.covariance import Covariance\n",
    "from estimation.expected_return import ExpectedReturn\n",
    "from optimization.constraints import Constraints\n",
    "from optimization.optimization import Optimization, Objective\n",
    "from optimization.optimization_data import OptimizationData\n",
    "from optimization.quadratic_program import QuadraticProgram, USABLE_SOLVERS"
   ]
  },
  {
   "cell_type": "markdown",
   "metadata": {},
   "source": [
    "## 1. Solver horse race\n",
    "\n",
    "### 1.a)\n",
    "(3 points)\n",
    "\n",
    "Generate a Multivariate-Normal random dataset of dimension TxN, T=1000, N=100, and compute a vector of expected returns, q, and a covariance matrix, P, using classes ExpectedReturn and Covariance respectively."
   ]
  },
  {
   "cell_type": "code",
   "execution_count": 14,
   "metadata": {},
   "outputs": [
    {
     "name": "stdout",
     "output_type": "stream",
     "text": [
      "Vector of expected returns (q):\n",
      "Asset_1      0.640808\n",
      "Asset_2      0.179484\n",
      "Asset_3      0.607434\n",
      "Asset_4     -0.057847\n",
      "Asset_5      0.508896\n",
      "               ...   \n",
      "Asset_96     0.236522\n",
      "Asset_97     0.496411\n",
      "Asset_98    -0.022446\n",
      "Asset_99     0.409178\n",
      "Asset_100    0.125338\n",
      "Length: 100, dtype: float64\n",
      "\n",
      "Covariance matrix (P):\n",
      "             Asset_1    Asset_2    Asset_3    Asset_4    Asset_5    Asset_6  \\\n",
      "Asset_1    35.908528  27.769374  25.866829  26.649889  27.083634  27.782598   \n",
      "Asset_2    27.769374  38.098514  27.050221  27.792044  27.550363  30.815317   \n",
      "Asset_3    25.866829  27.050221  35.146148  25.473934  25.549242  29.346697   \n",
      "Asset_4    26.649889  27.792044  25.473934  33.855364  24.548041  27.758137   \n",
      "Asset_5    27.083634  27.550363  25.549242  24.548041  34.808593  27.860956   \n",
      "...              ...        ...        ...        ...        ...        ...   \n",
      "Asset_96   27.556890  28.294641  25.697731  26.649673  27.771625  28.849631   \n",
      "Asset_97   25.725566  28.055820  25.926564  26.605727  25.353566  27.169984   \n",
      "Asset_98   27.982862  27.162378  25.367418  26.035063  27.327070  26.448691   \n",
      "Asset_99   28.212491  28.556784  26.270291  23.837625  26.693953  26.809684   \n",
      "Asset_100  24.659424  26.385770  24.802766  23.154760  25.850131  27.326324   \n",
      "\n",
      "             Asset_7    Asset_8    Asset_9   Asset_10  ...   Asset_91  \\\n",
      "Asset_1    26.209894  25.229894  25.132939  30.112918  ...  26.562082   \n",
      "Asset_2    27.338611  26.536104  23.751897  28.885664  ...  29.088561   \n",
      "Asset_3    26.005360  25.599203  22.690702  27.973137  ...  25.325151   \n",
      "Asset_4    25.018793  22.891405  24.578212  26.315687  ...  25.170022   \n",
      "Asset_5    26.826464  26.055827  22.421099  29.288926  ...  25.387137   \n",
      "...              ...        ...        ...        ...  ...        ...   \n",
      "Asset_96   27.530119  25.556867  24.646765  28.425373  ...  28.519181   \n",
      "Asset_97   26.227595  23.372019  23.965272  26.849805  ...  27.069328   \n",
      "Asset_98   25.099572  24.536759  24.349024  28.832907  ...  26.184640   \n",
      "Asset_99   26.024044  25.470443  23.728129  28.569161  ...  26.268345   \n",
      "Asset_100  23.315054  21.853092  22.697453  25.417649  ...  23.589147   \n",
      "\n",
      "            Asset_92   Asset_93   Asset_94   Asset_95   Asset_96   Asset_97  \\\n",
      "Asset_1    27.939346  25.526414  28.356386  25.583638  27.556890  25.725566   \n",
      "Asset_2    30.728952  23.713378  30.606553  25.883387  28.294641  28.055820   \n",
      "Asset_3    28.847453  24.594770  26.692297  27.033179  25.697731  25.926564   \n",
      "Asset_4    27.741750  22.207498  27.260724  24.483916  26.649673  26.605727   \n",
      "Asset_5    29.437140  22.339402  27.265443  27.113695  27.771625  25.353566   \n",
      "...              ...        ...        ...        ...        ...        ...   \n",
      "Asset_96   29.800171  23.863406  27.109770  26.476062  35.801285  27.559090   \n",
      "Asset_97   27.975904  23.067554  27.617581  24.442080  27.559090  34.043471   \n",
      "Asset_98   27.748093  22.207166  27.221072  25.869366  25.896056  25.883938   \n",
      "Asset_99   28.196363  24.421992  26.263902  24.797335  27.430062  25.285686   \n",
      "Asset_100  26.303771  21.884631  25.660426  25.492099  25.251007  24.459374   \n",
      "\n",
      "            Asset_98   Asset_99  Asset_100  \n",
      "Asset_1    27.982862  28.212491  24.659424  \n",
      "Asset_2    27.162378  28.556784  26.385770  \n",
      "Asset_3    25.367418  26.270291  24.802766  \n",
      "Asset_4    26.035063  23.837625  23.154760  \n",
      "Asset_5    27.327070  26.693953  25.850131  \n",
      "...              ...        ...        ...  \n",
      "Asset_96   25.896056  27.430062  25.251007  \n",
      "Asset_97   25.883938  25.285686  24.459374  \n",
      "Asset_98   34.373018  26.868980  23.591572  \n",
      "Asset_99   26.868980  35.285162  24.828956  \n",
      "Asset_100  23.591572  24.828956  29.756914  \n",
      "\n",
      "[100 rows x 100 columns]\n"
     ]
    }
   ],
   "source": [
    "\n",
    "# Set the dimensions\n",
    "T = 1000  # Number of time periods\n",
    "N = 100   # Number of assets\n",
    "\n",
    "# Generate a random mean vector from a normal distribution\n",
    "mean = np.random.rand(N)\n",
    "# Generate a random covariance matrix\n",
    "A = np.random.rand(N, N)\n",
    "cov = np.dot(A, A.transpose())  # To ensure the covariance matrix is positive semi-definite\n",
    "\n",
    "# Generate the Multivariate-Normal random dataset\n",
    "data = np.random.multivariate_normal(mean, cov, T)\n",
    "\n",
    "# Convert the dataset to a DataFrame for easier manipulation\n",
    "df = pd.DataFrame(data, columns=[f'Asset_{i+1}' for i in range(N)])\n",
    "\n",
    "\n",
    "# Compute the vector of expected returns (mean returns) from df\n",
    "scalefactor = 1\n",
    "expected_return = ExpectedReturn(method='arithmetic', scalefactor=scalefactor)\n",
    "q= expected_return.estimate(X=df, inplace=False)\n",
    "\n",
    "# Compute the covariance matrix from df\n",
    "covariance = Covariance(method='pearson')\n",
    "P = covariance.estimate(X=df, inplace=False)\n",
    "\n",
    "\n",
    "# Display the results\n",
    "print(\"Vector of expected returns (q):\")\n",
    "print(q)\n",
    "# \n",
    "print(\"\\nCovariance matrix (P):\")\n",
    "print(P)"
   ]
  },
  {
   "cell_type": "code",
   "execution_count": 16,
   "metadata": {},
   "outputs": [
    {
     "data": {
      "text/plain": [
       "array([0.84327227, 0.33279283, 0.57938234, 0.11061847, 0.44939613,\n",
       "       0.77133017, 0.32663374, 0.94114959, 0.96320663, 0.34238742,\n",
       "       0.88270503, 0.39901046, 0.62533041, 0.68319486, 0.38868207,\n",
       "       0.15925195, 0.63539713, 0.28000947, 0.75229739, 0.4843771 ,\n",
       "       0.82656712, 0.77662533, 0.57931831, 0.29804091, 0.17571095,\n",
       "       0.96539813, 0.35819744, 0.64231055, 0.3118272 , 0.67064347,\n",
       "       0.94650214, 0.0866464 , 0.01716606, 0.68550322, 0.05368673,\n",
       "       0.36105651, 0.14852124, 0.84304714, 0.88549113, 0.88888332,\n",
       "       0.29491922, 0.68191632, 0.80059527, 0.89854149, 0.34575876,\n",
       "       0.39474191, 0.38205575, 0.85388519, 0.76876971, 0.9283753 ,\n",
       "       0.69720655, 0.83450307, 0.66142521, 0.74347626, 0.71151703,\n",
       "       0.70109329, 0.97700828, 0.5734034 , 0.67502591, 0.27583677,\n",
       "       0.47840375, 0.30971579, 0.98508601, 0.49189496, 0.57443099,\n",
       "       0.13686638, 0.62379821, 0.89114842, 0.94777433, 0.96170709,\n",
       "       0.01719947, 0.19358678, 0.00770478, 0.5816621 , 0.8405023 ,\n",
       "       0.87834023, 0.85973865, 0.19004717, 0.30875598, 0.37028386,\n",
       "       0.47679976, 0.15143882, 0.58624471, 0.44149938, 0.72455095,\n",
       "       0.50940041, 0.52340566, 0.15839861, 0.94531427, 0.38234536,\n",
       "       0.79679546, 0.72293974, 0.05980824, 0.88246653, 0.5103167 ,\n",
       "       0.28681271, 0.39102527, 0.06894813, 0.4230586 , 0.03512026])"
      ]
     },
     "execution_count": 16,
     "metadata": {},
     "output_type": "execute_result"
    }
   ],
   "source": [
    "mean"
   ]
  },
  {
   "cell_type": "markdown",
   "metadata": {},
   "source": [
    "### 1.b)\n",
    "(3 points)\n",
    "\n",
    "Instantiate a constraints object by injecting column names of the data created in 1.a) as ids and add:\n",
    "- a budget constaint (i.e., asset weights have to sum to one)\n",
    "- lower bounds of 0.0 for all assets\n",
    "- upper bounds of 0.2 for all assets\n",
    "- group contraints such that the sum of the weights of the first 30 assets is <= 0.3, the sum of assets 31 to 60 is <= 0.4 and the sum of assets 61 to 100 is <= 0.5"
   ]
  },
  {
   "cell_type": "markdown",
   "metadata": {},
   "source": []
  },
  {
   "cell_type": "code",
   "execution_count": null,
   "metadata": {},
   "outputs": [
    {
     "data": {
      "text/plain": [
       "<optimization.constraints.Constraints at 0x1663129c9d0>"
      ]
     },
     "execution_count": 3,
     "metadata": {},
     "output_type": "execute_result"
    }
   ],
   "source": [
    "# Instantiate the Constraints class\n",
    "constraints = Constraints(ids = df.columns.tolist())\n",
    "\n",
    "# Add budget constraint\n",
    "#<your code here>\n",
    "\n",
    "# Add box constraints (i.e., lower and upper bounds)\n",
    "#<your code here>\n",
    "\n",
    "# Add linear constraints\n",
    "#<your code here>"
   ]
  },
  {
   "cell_type": "markdown",
   "metadata": {},
   "source": [
    "### 1.c) \n",
    "(4 points)\n",
    "\n",
    "Solve a Mean-Variance optimization problem (using coefficients P and q in the objective function) which satisfies the above defined constraints.\n",
    "Repeat the task for all open-source solvers in qpsolvers and compare the results in terms of:\n",
    "\n",
    "- runtime\n",
    "- accuracy: value of the primal problem.\n",
    "- reliability: are all constarints fulfilled? Extract primal resisduals, dual residuals and duality gap.\n",
    "\n",
    "Generate a DataFrame with the solvers as column names and the following row index: 'solution_found': bool, 'objective': float, 'primal_residual': float, 'dual_residual': float, 'duality_gap': float, 'runtime': float.\n",
    "\n",
    "Put NA's for solvers that failed for some reason (e.g., unable to install the package or solvers throws an error during execution). \n",
    "\n",
    "\n"
   ]
  },
  {
   "cell_type": "code",
   "execution_count": null,
   "metadata": {},
   "outputs": [],
   "source": [
    "# Extract the constraints in the format required by the solver\n",
    "GhAb = constraints.to_GhAb()\n",
    "\n",
    "# Loop over solvers, instantiate the quadratic program, solve it and store the results\n",
    "#<your code here>"
   ]
  },
  {
   "cell_type": "markdown",
   "metadata": {},
   "source": [
    "Print and visualize the results"
   ]
  },
  {
   "cell_type": "code",
   "execution_count": 5,
   "metadata": {},
   "outputs": [],
   "source": [
    "#<your code here>"
   ]
  },
  {
   "cell_type": "markdown",
   "metadata": {},
   "source": [
    "## 2. Analytical Solution to Minimum-Variance Problem\n",
    "\n",
    "(5 points)\n",
    "\n",
    "- Create a `MinVariance` class that follows the structure of the `MeanVariance` class.\n",
    "- Implement the `solve` method in `MinVariance` such that if `solver_name = 'analytical'`, the analytical solution is computed and stored within the object (if such a solution exists). If not, call the `solve` method from the parent class.\n",
    "- Create a `Constraints` object by injecting the same ids as in part 1.b) and add a budget constraint.\n",
    "- Instantiate a `MinVariance` object by setting `solver_name = 'analytical'` and passing instances of `Constraints` and `Covariance` as arguments.\n",
    "- Create an `OptimizationData` object that contains an element `return_series`, which consists of the synthetic data generated in part 1.a).\n",
    "- Solve the optimization problem using the created `MinVariance` object and compare the results to those obtained in part 1.c).\n"
   ]
  },
  {
   "cell_type": "code",
   "execution_count": null,
   "metadata": {},
   "outputs": [],
   "source": [
    "# Define class MinVariance\n",
    "class MinVariance(Optimization):\n",
    "\n",
    "    def __init__(self,\n",
    "                 constraints: Constraints,\n",
    "                 covariance: Optional[Covariance] = None,\n",
    "                 **kwargs):\n",
    "        super().__init__(\n",
    "            constraints=constraints,\n",
    "            **kwargs\n",
    "        )\n",
    "        self.covariance = Covariance() if covariance is None else covariance\n",
    "\n",
    "    def set_objective(self, optimization_data: OptimizationData) -> None:\n",
    "        #<your code here>\n",
    "\n",
    "    def solve(self) -> None:\n",
    "        if self.params.get('solver_name') == 'analytical':\n",
    "            #<your code here>\n",
    "            return None\n",
    "        else:\n",
    "            return super().solve()\n",
    "\n",
    "\n",
    "# Create a constraints object with just a budget constraint\n",
    "#<your code here>\n",
    "\n",
    "# Instantiate the MinVariance class\n",
    "#<your code here>\n",
    "\n",
    "# Prepare the optimization data and prepare the optimization problem\n",
    "#<your code here>\n",
    "\n",
    "# Solve the optimization problem and print the weights\n",
    "#<your code here>"
   ]
  }
 ],
 "metadata": {
  "kernelspec": {
   "display_name": ".venv",
   "language": "python",
   "name": "python3"
  },
  "language_info": {
   "codemirror_mode": {
    "name": "ipython",
    "version": 3
   },
   "file_extension": ".py",
   "mimetype": "text/x-python",
   "name": "python",
   "nbconvert_exporter": "python",
   "pygments_lexer": "ipython3",
   "version": "3.12.5"
  }
 },
 "nbformat": 4,
 "nbformat_minor": 2
}
