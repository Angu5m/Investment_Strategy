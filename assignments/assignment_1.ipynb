{
 "cells": [
  {
   "cell_type": "markdown",
   "metadata": {},
   "source": [
    "# Assignment 1\n",
    "\n",
    "Deadline: 19.03.2025, 12:00 CET\n",
    "\n",
    "<Add your name, student-id and emal address>"
   ]
  },
  {
   "cell_type": "code",
   "execution_count": 1,
   "metadata": {},
   "outputs": [],
   "source": [
    "# Import standard libraries\n",
    "import os\n",
    "import sys\n",
    "import timeit # To compute runtimes\n",
    "from typing import Optional\n",
    "\n",
    "# Import third-party libraries\n",
    "import numpy as np\n",
    "import pandas as pd\n",
    "import matplotlib.pyplot as plt\n",
    "\n",
    "# Import local modules\n",
    "project_root = os.path.dirname(os.path.dirname(os.getcwd()))   # Change this path if needed\n",
    "src_path = os.path.join(project_root, 'qpmwp-course\\\\src')\n",
    "sys.path.append(project_root)\n",
    "sys.path.append(src_path)\n",
    "from estimation.covariance import Covariance\n",
    "from estimation.expected_return import ExpectedReturn\n",
    "from optimization.constraints import Constraints\n",
    "from optimization.optimization import Optimization, Objective\n",
    "from optimization.optimization_data import OptimizationData\n",
    "from optimization.quadratic_program import QuadraticProgram, USABLE_SOLVERS"
   ]
  },
  {
   "cell_type": "markdown",
   "metadata": {},
   "source": [
    "## 1. Solver horse race\n",
    "\n",
    "### 1.a)\n",
    "(3 points)\n",
    "\n",
    "Generate a Multivariate-Normal random dataset of dimension TxN, T=1000, N=100, and compute a vector of expected returns, q, and a covariance matrix, P, using classes ExpectedReturn and Covariance respectively."
   ]
  },
  {
   "cell_type": "code",
   "execution_count": 13,
   "metadata": {},
   "outputs": [
    {
     "name": "stdout",
     "output_type": "stream",
     "text": [
      "Vector of expected returns (q):\n",
      "Asset_1      0.585686\n",
      "Asset_2      0.289911\n",
      "Asset_3      0.562792\n",
      "Asset_4      0.267083\n",
      "Asset_5      0.234132\n",
      "               ...   \n",
      "Asset_96     0.614382\n",
      "Asset_97     0.393991\n",
      "Asset_98     0.769293\n",
      "Asset_99     0.611028\n",
      "Asset_100    0.373884\n",
      "Length: 100, dtype: float64\n",
      "\n",
      "Covariance matrix (P):\n",
      "             Asset_1    Asset_2    Asset_3    Asset_4    Asset_5    Asset_6  \\\n",
      "Asset_1    31.798509  24.828966  23.662610  25.713142  25.702657  26.527809   \n",
      "Asset_2    24.828966  35.649954  25.004459  28.357161  27.693394  27.788563   \n",
      "Asset_3    23.662610  25.004459  28.230190  23.935030  23.845259  25.355326   \n",
      "Asset_4    25.713142  28.357161  23.935030  33.957776  25.772156  28.040510   \n",
      "Asset_5    25.702657  27.693394  23.845259  25.772156  35.794538  29.065975   \n",
      "...              ...        ...        ...        ...        ...        ...   \n",
      "Asset_96   25.032439  26.960581  24.669273  25.286453  27.098781  28.033079   \n",
      "Asset_97   25.846834  25.581775  24.009683  25.915902  25.456399  27.243913   \n",
      "Asset_98   25.751505  25.290374  23.463767  24.794877  24.609001  27.625584   \n",
      "Asset_99   23.707565  24.997276  22.476418  25.073545  27.542504  25.701971   \n",
      "Asset_100  23.798140  25.863643  22.028535  24.798842  26.642750  27.336813   \n",
      "\n",
      "             Asset_7    Asset_8    Asset_9   Asset_10  ...   Asset_91  \\\n",
      "Asset_1    22.451932  23.030788  25.157065  24.888600  ...  27.450182   \n",
      "Asset_2    25.804661  24.408286  25.563606  28.026171  ...  30.013697   \n",
      "Asset_3    22.247263  22.037824  23.155575  25.163837  ...  25.254345   \n",
      "Asset_4    24.066374  24.166841  25.673821  28.087775  ...  27.374562   \n",
      "Asset_5    24.605094  27.184966  26.229834  29.156419  ...  30.136023   \n",
      "...              ...        ...        ...        ...  ...        ...   \n",
      "Asset_96   24.958360  25.104988  23.614508  27.321970  ...  29.582720   \n",
      "Asset_97   25.479159  25.033189  25.848578  25.082477  ...  27.039137   \n",
      "Asset_98   23.035461  25.185998  24.079060  25.465900  ...  28.235282   \n",
      "Asset_99   23.422970  23.768306  22.571479  27.187264  ...  27.284146   \n",
      "Asset_100  24.016125  25.490205  24.591237  25.168876  ...  27.667219   \n",
      "\n",
      "            Asset_92   Asset_93   Asset_94   Asset_95   Asset_96   Asset_97  \\\n",
      "Asset_1    22.724318  23.266935  22.639816  27.536734  25.032439  25.846834   \n",
      "Asset_2    25.799591  23.505997  26.143261  26.538477  26.960581  25.581775   \n",
      "Asset_3    21.212548  22.276455  22.934749  26.348289  24.669273  24.009683   \n",
      "Asset_4    24.192174  24.282259  24.109219  28.360268  25.286453  25.915902   \n",
      "Asset_5    26.150767  25.367212  25.454959  27.858957  27.098781  25.456399   \n",
      "...              ...        ...        ...        ...        ...        ...   \n",
      "Asset_96   25.591816  24.655579  24.626150  27.738594  36.909203  25.660508   \n",
      "Asset_97   22.001233  24.206813  23.946797  26.741887  25.660508  33.122540   \n",
      "Asset_98   23.591314  25.068191  23.666375  26.241087  25.879062  24.023446   \n",
      "Asset_99   25.012250  23.324901  24.722591  27.326022  24.939260  23.536313   \n",
      "Asset_100  23.924915  24.614905  23.063713  26.557706  24.845289  24.160696   \n",
      "\n",
      "            Asset_98   Asset_99  Asset_100  \n",
      "Asset_1    25.751505  23.707565  23.798140  \n",
      "Asset_2    25.290374  24.997276  25.863643  \n",
      "Asset_3    23.463767  22.476418  22.028535  \n",
      "Asset_4    24.794877  25.073545  24.798842  \n",
      "Asset_5    24.609001  27.542504  26.642750  \n",
      "...              ...        ...        ...  \n",
      "Asset_96   25.879062  24.939260  24.845289  \n",
      "Asset_97   24.023446  23.536313  24.160696  \n",
      "Asset_98   31.857823  23.619728  23.714653  \n",
      "Asset_99   23.619728  32.069621  24.101358  \n",
      "Asset_100  23.714653  24.101358  31.642184  \n",
      "\n",
      "[100 rows x 100 columns]\n"
     ]
    }
   ],
   "source": [
    "\n",
    "# Set the dimensions\n",
    "T = 1000  # Number of time periods\n",
    "N = 100   # Number of assets\n",
    "\n",
    "# Generate a random mean vector from a normal distribution\n",
    "mean = np.random.rand(N)\n",
    "# Generate a random covariance matrix\n",
    "A = np.random.rand(N, N)\n",
    "cov = np.dot(A, A.transpose())  # To ensure the covariance matrix is positive semi-definite\n",
    "\n",
    "# Generate the Multivariate-Normal random dataset\n",
    "data = np.random.multivariate_normal(mean, cov, T)\n",
    "\n",
    "# Convert the dataset to a DataFrame for easier manipulation\n",
    "df = pd.DataFrame(data, columns=[f'Asset_{i+1}' for i in range(N)])\n",
    "\n",
    "\n",
    "# Compute the vector of expected returns (mean returns) from df\n",
    "scalefactor = 1\n",
    "expected_return = ExpectedReturn(method='arithmetic', scalefactor=scalefactor)\n",
    "expected_return.estimate(X=df, inplace=True)\n",
    "\n",
    "# Compute the covariance matrix from df\n",
    "covariance = Covariance(method='pearson')\n",
    "covariance.estimate(X=df, inplace=True)\n",
    "\n",
    "\n",
    "# Display the results\n",
    "print(\"Vector of expected returns (q):\")\n",
    "print(q)\n",
    "# \n",
    "print(\"\\nCovariance matrix (P):\")\n",
    "print(P)"
   ]
  },
  {
   "cell_type": "markdown",
   "metadata": {},
   "source": [
    "### 1.b)\n",
    "(3 points)\n",
    "\n",
    "Instantiate a constraints object by injecting column names of the data created in 1.a) as ids and add:\n",
    "- a budget constaint (i.e., asset weights have to sum to one)\n",
    "- lower bounds of 0.0 for all assets\n",
    "- upper bounds of 0.2 for all assets\n",
    "- group contraints such that the sum of the weights of the first 30 assets is <= 0.3, the sum of assets 31 to 60 is <= 0.4 and the sum of assets 61 to 100 is <= 0.5"
   ]
  },
  {
   "cell_type": "code",
   "execution_count": 14,
   "metadata": {},
   "outputs": [],
   "source": [
    "# Instantiate the Constraints class\n",
    "constraints = Constraints(ids = df.columns.tolist())\n",
    "\n",
    "# Add budget constraint\n",
    "constraints.add_budget(rhs=1, sense='=')\n",
    "\n",
    "# Add box constraints (i.e., lower and upper bounds)\n",
    "constraints.add_box(lower=0, upper=0.2)\n",
    "\n",
    "# Add linear constraints\n",
    "G = pd.DataFrame(np.zeros((3, N)), columns=constraints.ids)\n",
    "G.iloc[0, :30] = 1\n",
    "G.iloc[1, 30:60] = 1\n",
    "G.iloc[2, 60:] = 1\n",
    "h = pd.Series([0.3, 0.4, 0.5])\n",
    "constraints.add_linear(G=G, sense='<=', rhs=h)\n"
   ]
  },
  {
   "cell_type": "markdown",
   "metadata": {},
   "source": [
    "### 1.c) \n",
    "(4 points)\n",
    "\n",
    "Solve a Mean-Variance optimization problem (using coefficients P and q in the objective function) which satisfies the above defined constraints.\n",
    "Repeat the task for all open-source solvers in qpsolvers and compare the results in terms of:\n",
    "\n",
    "- runtime\n",
    "- accuracy: value of the primal problem.\n",
    "- reliability: are all constarints fulfilled? Extract primal resisduals, dual residuals and duality gap.\n",
    "\n",
    "Generate a DataFrame with the solvers as column names and the following row index: 'solution_found': bool, 'objective': float, 'primal_residual': float, 'dual_residual': float, 'duality_gap': float, 'runtime': float.\n",
    "\n",
    "Put NA's for solvers that failed for some reason (e.g., unable to install the package or solvers throws an error during execution). \n",
    "\n",
    "\n"
   ]
  },
  {
   "cell_type": "code",
   "execution_count": 33,
   "metadata": {},
   "outputs": [
    {
     "data": {
      "text/plain": [
       "['highs', 'daqp', 'cvxopt', 'qpalm', 'quadprog', 'osqp']"
      ]
     },
     "execution_count": 33,
     "metadata": {},
     "output_type": "execute_result"
    }
   ],
   "source": [
    "list(USABLE_SOLVERS)"
   ]
  },
  {
   "cell_type": "code",
   "execution_count": 79,
   "metadata": {},
   "outputs": [],
   "source": [
    "import time\n",
    "# Extract the constraints in the format required by the solver\n",
    "GhAb = constraints.to_GhAb()\n",
    "\n",
    "# Loop over solvers, instantiate the quadratic program, solve it and store the results\n",
    "risk_aversion = 1\n",
    "\n",
    "results = pd.DataFrame(columns=list(USABLE_SOLVERS), index={'solution_found': bool, 'objective': float, 'primal_residual': float, 'dual_residual': float, 'duality_gap': float, 'runtime': float})\n",
    "\n",
    "for solver_name in USABLE_SOLVERS:\n",
    "    qp = QuadraticProgram(\n",
    "        P = covariance.matrix.to_numpy() * risk_aversion,\n",
    "        q = expected_return.vector.to_numpy() * -1,\n",
    "        G = GhAb['G'],\n",
    "        h = GhAb['h'],\n",
    "        A = GhAb['A'],\n",
    "        b = GhAb['b'],\n",
    "        lb = constraints.box['lower'].to_numpy(),\n",
    "        ub = constraints.box['upper'].to_numpy(),\n",
    "        solver = solver_name\n",
    "    )\n",
    "\n",
    "    start_time = time.time()\n",
    "    qp.solve()\n",
    "    end_time = time.time()\n",
    "\n",
    "    sol = qp.results.get('solution')\n",
    "    results.loc['solution_found', solver_name] = sol.found\n",
    "    if sol.found:\n",
    "        results.loc['objective', solver_name] = qp.objective_value()\n",
    "        results.loc['primal_residual', solver_name] = sol.primal_residual()\n",
    "        results.loc['dual_residual', solver_name] = sol.dual_residual()\n",
    "        results.loc['duality_gap', solver_name] = sol.duality_gap()\n",
    "        results.loc['runtime', solver_name] = end_time - start_time"
   ]
  },
  {
   "cell_type": "markdown",
   "metadata": {},
   "source": [
    "Print and visualize the results"
   ]
  },
  {
   "cell_type": "code",
   "execution_count": 80,
   "metadata": {},
   "outputs": [
    {
     "name": "stdout",
     "output_type": "stream",
     "text": [
      "                                  highs                   daqp  \\\n",
      "solution_found                     True                   True   \n",
      "objective                      9.152325               9.152325   \n",
      "primal_residual                     0.0                    0.0   \n",
      "dual_residual                       0.0                    0.0   \n",
      "duality_gap      1.2604335353216811e-08  8.846257060213247e-13   \n",
      "runtime                        0.013607               0.003995   \n",
      "\n",
      "                                cvxopt                  qpalm  \\\n",
      "solution_found                    True                   True   \n",
      "objective                     9.152325               9.151026   \n",
      "primal_residual                    0.0               0.000043   \n",
      "dual_residual                      0.0                    0.0   \n",
      "duality_gap      1.988092328781262e-07  0.0012989187257221638   \n",
      "runtime                       0.056733               0.012029   \n",
      "\n",
      "                               quadprog                 osqp  \n",
      "solution_found                     True                 True  \n",
      "objective                      9.152325             9.029323  \n",
      "primal_residual                     0.0             0.001149  \n",
      "dual_residual                       0.0             0.001865  \n",
      "duality_gap      1.4164669437377597e-11  0.12033420001202089  \n",
      "runtime                        0.010541             0.006516  \n"
     ]
    }
   ],
   "source": [
    "print(results)"
   ]
  },
  {
   "cell_type": "markdown",
   "metadata": {},
   "source": [
    "## 2. Analytical Solution to Minimum-Variance Problem\n",
    "\n",
    "(5 points)\n",
    "\n",
    "- Create a `MinVariance` class that follows the structure of the `MeanVariance` class.\n",
    "- Implement the `solve` method in `MinVariance` such that if `solver_name = 'analytical'`, the analytical solution is computed and stored within the object (if such a solution exists). If not, call the `solve` method from the parent class.\n",
    "- Create a `Constraints` object by injecting the same ids as in part 1.b) and add a budget constraint.\n",
    "- Instantiate a `MinVariance` object by setting `solver_name = 'analytical'` and passing instances of `Constraints` and `Covariance` as arguments.\n",
    "- Create an `OptimizationData` object that contains an element `return_series`, which consists of the synthetic data generated in part 1.a).\n",
    "- Solve the optimization problem using the created `MinVariance` object and compare the results to those obtained in part 1.c).\n"
   ]
  },
  {
   "cell_type": "code",
   "execution_count": null,
   "metadata": {},
   "outputs": [],
   "source": [
    "# Define class MinVariance\n",
    "class MinVariance(Optimization):\n",
    "\n",
    "    def __init__(self,\n",
    "                 constraints: Constraints,\n",
    "                 covariance: Optional[Covariance] = None,\n",
    "                 **kwargs):\n",
    "        super().__init__(\n",
    "            constraints=constraints,\n",
    "            **kwargs\n",
    "        )\n",
    "        self.covariance = Covariance() if covariance is None else covariance\n",
    "\n",
    "    def set_objective(self, optimization_data: OptimizationData) -> None:\n",
    "        #<your code here>\n",
    "\n",
    "    def solve(self) -> None:\n",
    "        if self.params.get('solver_name') == 'analytical':\n",
    "            #<your code here>\n",
    "            return None\n",
    "        else:\n",
    "            return super().solve()\n",
    "\n",
    "\n",
    "# Create a constraints object with just a budget constraint\n",
    "#<your code here>\n",
    "\n",
    "# Instantiate the MinVariance class\n",
    "#<your code here>\n",
    "\n",
    "# Prepare the optimization data and prepare the optimization problem\n",
    "#<your code here>\n",
    "\n",
    "# Solve the optimization problem and print the weights\n",
    "#<your code here>"
   ]
  }
 ],
 "metadata": {
  "kernelspec": {
   "display_name": ".venv",
   "language": "python",
   "name": "python3"
  },
  "language_info": {
   "codemirror_mode": {
    "name": "ipython",
    "version": 3
   },
   "file_extension": ".py",
   "mimetype": "text/x-python",
   "name": "python",
   "nbconvert_exporter": "python",
   "pygments_lexer": "ipython3",
   "version": "3.12.5"
  }
 },
 "nbformat": 4,
 "nbformat_minor": 2
}
